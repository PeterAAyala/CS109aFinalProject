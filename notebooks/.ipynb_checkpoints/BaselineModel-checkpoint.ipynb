{
 "cells": [
  {
   "cell_type": "code",
   "execution_count": 1,
   "metadata": {
    "collapsed": true,
    "hide": true
   },
   "outputs": [],
   "source": [
    "# import libraries\n",
    "import numpy as np\n",
    "import pandas as pd\n",
    "import seaborn as sns\n",
    "import json\n",
    "import matplotlib\n",
    "import matplotlib.pyplot as plt\n",
    "import sklearn.metrics as metrics\n",
    "from sklearn.model_selection import cross_val_score\n",
    "from sklearn.linear_model import LinearRegression\n",
    "from sklearn.linear_model import LogisticRegressionCV\n",
    "from sklearn.linear_model import RidgeCV\n",
    "from sklearn.linear_model import LassoCV\n",
    "from random import *\n",
    "from math import log\n",
    "import copy\n",
    "pd.set_option('display.max_columns', None)\n",
    "from pandas.io.json import json_normalize\n",
    "\n",
    "\n",
    "# Testing testing github \n",
    "from scipy.stats.stats import pearsonr   \n",
    "%matplotlib inline"
   ]
  },
  {
   "cell_type": "code",
   "execution_count": 2,
   "metadata": {
    "collapsed": true,
    "hide": true
   },
   "outputs": [],
   "source": [
    "# load business and user data\n",
    "with open('dataset/business.json') as f:\n",
    "    business_data = [json.loads(line) for line in f]\n",
    "with open('dataset/user.json') as f:\n",
    "    user_data = [json.loads(line) for line in f]  \n",
    "# preprocessed review file with reviews only for restaurants \n",
    "with open('dataset/restaurant_reviews_trimmed.json') as f:\n",
    "    review_data = [json.loads(line) for line in f]\n",
    "\n",
    "# pull just restaurant data from business data\n",
    "restaurant_data = [x for x in business_data if 'Restaurants' in x['categories']]\n",
    "\n",
    "# convert array to list\n",
    "restaurant_reviews = review_data[0] \n",
    "\n",
    "# pandas dataframe of restaurant data\n",
    "restaurant_df = json_normalize(restaurant_data)"
   ]
  },
  {
   "cell_type": "markdown",
   "metadata": {},
   "source": [
    "## Part 1: Create a Baseline"
   ]
  },
  {
   "cell_type": "markdown",
   "metadata": {},
   "source": [
    "Our first model was a simple baseline approach, written out as \n",
    "\n",
    "$$ \\hat{Y}_{um} = \\hat{\\mu} + \\hat{\\theta}_{u} + \\hat{\\gamma}_m $$\n",
    "\n",
    "where $\\hat{\\theta}_{u}$ and $\\hat{\\gamma}_m$ indicate the deviations of user $u$ and restaurant $m$ from some intercept paramter $\\mu$. The baseline estimates we used in $\\hat{\\theta}_{u}$ and $\\hat{\\gamma}_m$ were the global averages, as seen and explained further below."
   ]
  },
  {
   "cell_type": "markdown",
   "metadata": {},
   "source": [
    "### Creating training, validating, and testing sets"
   ]
  },
  {
   "cell_type": "code",
   "execution_count": 3,
   "metadata": {
    "collapsed": true
   },
   "outputs": [],
   "source": [
    "# take 100000 reviews as sample\n",
    "data_array = (np.random.choice(restaurant_reviews, size = 100000))\n",
    "data_set = list(data_array)"
   ]
  },
  {
   "cell_type": "markdown",
   "metadata": {},
   "source": [
    "As the dataset is so large, we had to take a subset of it to work with because of technical limitations of our computers."
   ]
  },
  {
   "cell_type": "code",
   "execution_count": 4,
   "metadata": {
    "collapsed": true
   },
   "outputs": [],
   "source": [
    "# find all categories for one-hot encoding purposes\n",
    "from collections import Counter\n",
    "all_categories = []\n",
    "for r in restaurant_data:\n",
    "    if 'Restaurants' in r['categories']:\n",
    "        for c in r['categories']:\n",
    "            all_categories.append(c)"
   ]
  },
  {
   "cell_type": "markdown",
   "metadata": {},
   "source": [
    "In the original dataset, \"categories\" is given as a list in each cell. We found all the unique categories here (e.g. French, Burgers, etc.)."
   ]
  },
  {
   "cell_type": "code",
   "execution_count": 5,
   "metadata": {
    "collapsed": true
   },
   "outputs": [],
   "source": [
    "# take 150 most popular categories\n",
    "counts = list (Counter(all_categories).items())\n",
    "counts.sort(key=lambda x: x[1], reverse = True)\n",
    "most_popular = [x[0] for x in counts[:150]]"
   ]
  },
  {
   "cell_type": "markdown",
   "metadata": {},
   "source": [
    "Many of the categories were either inappropriate (e.g. laundry) or too rare to be useful. Here, we narrowed down the categories to the top 150."
   ]
  },
  {
   "cell_type": "code",
   "execution_count": 6,
   "metadata": {
    "collapsed": true
   },
   "outputs": [],
   "source": [
    "# create restaurant and user dictionaries for easy lookup\n",
    "restaurant_dict = {}\n",
    "for item in restaurant_data:\n",
    "    restaurant_id = item['business_id']\n",
    "    restaurant_dict[restaurant_id] = item\n",
    "\n",
    "user_dict = {}\n",
    "for item in user_data:\n",
    "    user_id = item['user_id']\n",
    "    user_dict[user_id] = item\n",
    "    \n",
    "# make copy of the reviews array\n",
    "expanded_reviews = copy.deepcopy(data_array)"
   ]
  },
  {
   "cell_type": "code",
   "execution_count": 8,
   "metadata": {
    "collapsed": true
   },
   "outputs": [],
   "source": [
    "# add business and user info\n",
    "for review in expanded_reviews:\n",
    "    #print (review)\n",
    "    restaurant = review['business_id']\n",
    "    user = review['user_id']\n",
    "    restaurant_info = restaurant_dict[restaurant]\n",
    "    #print (restaurant_info)\n",
    "    user_info = user_dict[user]\n",
    "    for attribute in restaurant_info:\n",
    "        #print (attribute)\n",
    "        if attribute not in ['is_open', 'latitude','longitude','name','business_id',\n",
    "                             'neighborhood','address','city','postal_code','hours']:\n",
    "            if attribute == 'categories':\n",
    "                for c in most_popular:\n",
    "                    if c in restaurant_info[attribute]:\n",
    "                        review['R_' +  c] = 1\n",
    "                    else:\n",
    "                        review['R_' +  c] = 0\n",
    "            else:         \n",
    "                review['R_' + attribute] = restaurant_info[attribute]\n",
    "    for attribute in user_info:\n",
    "        if attribute not in ['user_id','name']:   \n",
    "            if attribute == 'friends':\n",
    "                review['U_friends'] = len(user_info[attribute])\n",
    "            elif attribute == 'yelping_since':\n",
    "                review['U_yelping_since'] = user_info[attribute][:4]\n",
    "            elif attribute == 'elite':\n",
    "                if user_info[attribute]:\n",
    "                    review['U_elite'] = True\n",
    "                else:\n",
    "                    review['U_elite'] = False        \n",
    "            else:\n",
    "                review['U_' + attribute] = user_info[attribute] "
   ]
  },
  {
   "cell_type": "markdown",
   "metadata": {},
   "source": [
    "Here, we added user and business attributes to the reviews dictionary."
   ]
  },
  {
   "cell_type": "code",
   "execution_count": 9,
   "metadata": {
    "collapsed": true
   },
   "outputs": [],
   "source": [
    "# create pandas dataframe\n",
    "flatframe = json_normalize(expanded_reviews)\n",
    "flatframe = flatframe.drop(['text','useful','funny','cool','date'], axis=1)\n",
    "\n",
    "# change user since\n",
    "flatframe['U_years_yelping'] = [2015 - int(x) for x in flatframe['U_yelping_since']]\n",
    "flatframe.drop(['U_yelping_since'],axis = 1, inplace = True)"
   ]
  },
  {
   "cell_type": "markdown",
   "metadata": {},
   "source": [
    "We decided to change \"U_yelping_since\", which was a year, to the number of years a user has been active (so that it would make more sense as a continuous variable)."
   ]
  },
  {
   "cell_type": "code",
   "execution_count": 11,
   "metadata": {
    "collapsed": true
   },
   "outputs": [],
   "source": [
    "# drop ids\n",
    "flatframe_wids = flatframe.drop(['business_id', 'review_id', 'user_id'], axis = 1)"
   ]
  },
  {
   "cell_type": "markdown",
   "metadata": {},
   "source": [
    "This was just for convenience when performing regression later==we didn't want to use the drop function every time we referred to the dataframe."
   ]
  },
  {
   "cell_type": "code",
   "execution_count": 12,
   "metadata": {
    "collapsed": true
   },
   "outputs": [],
   "source": [
    "#one hot encode\n",
    "flatframe_wids = pd.get_dummies(flatframe_wids, columns = ['R_state', \n",
    "                                                    'R_attributes.Alcohol', 'R_attributes.AgesAllowed', 'R_attributes.RestaurantsAttire',\n",
    "                                                    'R_attributes.RestaurantsPriceRange2','R_attributes.Smoking',\n",
    "                                                    'R_attributes.WiFi', 'R_attributes.NoiseLevel','R_attributes.BYOBCorkage'])"
   ]
  },
  {
   "cell_type": "code",
   "execution_count": 13,
   "metadata": {
    "collapsed": true
   },
   "outputs": [],
   "source": [
    "# drop column if more than half of a column is nan\n",
    "nan_count = {}\n",
    "for column in flatframe_wids:\n",
    "     nan_count[column] = flatframe_wids[column].isnull().sum()\n",
    "\n",
    "nan_sorted = sorted(nan_count.items(), key=lambda x: x[1], reverse = True) \n",
    "drop_nans = [x[0] for x in nan_sorted if x[1] > 50000]"
   ]
  },
  {
   "cell_type": "code",
   "execution_count": 14,
   "metadata": {
    "collapsed": true
   },
   "outputs": [],
   "source": [
    "# drop some nans and fill some nans\n",
    "flatframe_wids = flatframe_wids.drop(drop_nans, axis = 1)\n",
    "flatframe_wids = flatframe_wids.fillna(flatframe_wids.mean())"
   ]
  },
  {
   "cell_type": "markdown",
   "metadata": {},
   "source": [
    "There were many attributes with an unusually large number of NaNs (not 0 or False). We used mean imputation for many of these, but if more than half of the rows had missing values, we felt uncomfortable doing so and decided to drop the column entirely instead."
   ]
  },
  {
   "cell_type": "code",
   "execution_count": 15,
   "metadata": {
    "collapsed": true
   },
   "outputs": [],
   "source": [
    "# train test split\n",
    "msk = np.random.rand(len(flatframe_wids)) < 0.5\n",
    "data_train = flatframe_wids[msk]\n",
    "data_test = flatframe_wids[~msk]"
   ]
  },
  {
   "cell_type": "markdown",
   "metadata": {},
   "source": [
    "### Getting global averages"
   ]
  },
  {
   "cell_type": "code",
   "execution_count": 16,
   "metadata": {
    "collapsed": true
   },
   "outputs": [],
   "source": [
    "# make pandas dataframe for user data\n",
    "user_df = json_normalize(user_data)\n",
    "\n",
    "# train test split including business ids and user ids\n",
    "data_train_temp = flatframe[msk]\n",
    "data_test_temp = flatframe[~msk]"
   ]
  },
  {
   "cell_type": "markdown",
   "metadata": {},
   "source": [
    "For this part of the project, we needed to include business and user ids for lookup purposes, which we had earlier deleted."
   ]
  },
  {
   "cell_type": "code",
   "execution_count": 18,
   "metadata": {},
   "outputs": [
    {
     "name": "stdout",
     "output_type": "stream",
     "text": [
      "The global user average is 3.7280291378075754\n",
      "The global restaurant average is 3.5649292823467786\n",
      "The global review average is 3.708529901832855\n"
     ]
    }
   ],
   "source": [
    "# global user average\n",
    "users = data_train_temp.user_id.unique()\n",
    "user_total = user_df[user_df['user_id'].isin(users)]['average_stars']\n",
    "global_user_average = sum(user_total)/len(user_total)\n",
    "print (\"The global user average is {}\".format(global_user_average))\n",
    "\n",
    "# global restaurant average\n",
    "restaurants = data_train_temp.business_id.unique()\n",
    "restaurant_total = restaurant_df[restaurant_df['business_id'].isin(restaurants)]['stars']\n",
    "global_restaurant_average = sum(restaurant_total)/len(restaurant_total)\n",
    "print (\"The global restaurant average is {}\".format(global_restaurant_average))\n",
    "\n",
    "# global review average\n",
    "global_review_average = data_train['stars'].mean()\n",
    "print (\"The global review average is {}\".format(global_review_average))"
   ]
  },
  {
   "cell_type": "markdown",
   "metadata": {},
   "source": [
    "The \"global user average\" takes a single user and his/her average rating given as one data point. The 'global restaurant average' does the same with individual restaurants. The 'global review average' averages every rating from every review. These are different values as each individual rating is weighted differently in each method."
   ]
  },
  {
   "cell_type": "markdown",
   "metadata": {},
   "source": [
    "### Getting restaurant and user biases"
   ]
  },
  {
   "cell_type": "code",
   "execution_count": 21,
   "metadata": {
    "collapsed": true
   },
   "outputs": [],
   "source": [
    "# user biases\n",
    "user_deviations = {}\n",
    "for item in user_data:\n",
    "    user_id = item['user_id']\n",
    "    user_deviations[user_id] = item['average_stars'] - global_user_average"
   ]
  },
  {
   "cell_type": "code",
   "execution_count": 22,
   "metadata": {
    "collapsed": true
   },
   "outputs": [],
   "source": [
    "# restaurant biases\n",
    "restaurant_deviations = {}\n",
    "for item in restaurant_data:\n",
    "    rest_id = item['business_id']\n",
    "    restaurant_deviations[rest_id] = item['stars'] - global_restaurant_average"
   ]
  },
  {
   "cell_type": "markdown",
   "metadata": {},
   "source": [
    "We decided to use the global user average and the global restaurant average for the user and restaurant bias calculation respectively (rather than global review average for everything) because we felt that it was most appropriate to compare a user's average rating to other users and a restaurant's average rating to other restaurants rather than to an average of all reviews."
   ]
  },
  {
   "cell_type": "markdown",
   "metadata": {},
   "source": [
    "### Baseline Model"
   ]
  },
  {
   "cell_type": "code",
   "execution_count": 23,
   "metadata": {
    "collapsed": true
   },
   "outputs": [],
   "source": [
    "# creating xy variables\n",
    "Xtrain = data_train.drop(['stars'], axis = 1)\n",
    "ytrain = data_train['stars']\n",
    "Xtest = data_test.drop(['stars'], axis = 1)\n",
    "ytest = data_test['stars']"
   ]
  },
  {
   "cell_type": "code",
   "execution_count": 24,
   "metadata": {
    "collapsed": true
   },
   "outputs": [],
   "source": [
    "def baseline(user_id, business_id):\n",
    "    pred = global_review_average + user_deviations[user_id] + restaurant_deviations[business_id]\n",
    "    return int(round(pred))"
   ]
  },
  {
   "cell_type": "code",
   "execution_count": 25,
   "metadata": {
    "collapsed": true
   },
   "outputs": [],
   "source": [
    "# predictions\n",
    "base_pred = [baseline(x,y) for x,y in zip(data_train_temp['user_id'],data_train_temp['business_id'])]\n",
    "base_pred_test = [baseline(x,y) for x,y in zip(data_test_temp['user_id'],data_test_temp['business_id'])]"
   ]
  },
  {
   "cell_type": "code",
   "execution_count": 26,
   "metadata": {},
   "outputs": [
    {
     "name": "stdout",
     "output_type": "stream",
     "text": [
      "The accuracy score of the baseline model on the train set is 0.3930700821070805\n",
      "The accuracy score of the baseline model on the test set is 0.38866638770996476\n"
     ]
    }
   ],
   "source": [
    "print (\"The accuracy score of the baseline model on the train set is {}\"\n",
    "       .format(metrics.accuracy_score(ytrain, base_pred)))\n",
    "print (\"The accuracy score of the baseline model on the test set is {}\"\n",
    "       .format(metrics.accuracy_score(ytest, base_pred_test)))"
   ]
  },
  {
   "cell_type": "code",
   "execution_count": 27,
   "metadata": {
    "collapsed": true
   },
   "outputs": [],
   "source": [
    "# calculate averages\n",
    "pred_df_train = pd.DataFrame({'y' : ytrain, 'ypred' : base_pred})\n",
    "pred_df_test = pd.DataFrame({'y' : ytest, 'ypred' : base_pred_test})\n",
    "\n",
    "base_pred_avg = []\n",
    "base_pred_test_avg = []\n",
    "for i in [1, 2, 3, 4, 5]:\n",
    "    base_pred_avg.append(pred_df_train[pred_df_train['y'] == i]['ypred'].mean())\n",
    "    base_pred_test_avg.append(pred_df_test[pred_df_test['y'] == i]['ypred'].mean())"
   ]
  },
  {
   "cell_type": "code",
   "execution_count": 28,
   "metadata": {},
   "outputs": [
    {
     "data": {
      "image/png": "[encoded data removed]",
      "text/plain": [
       "<matplotlib.figure.Figure at 0x2d0fb8828>"
      ]
     },
     "metadata": {},
     "output_type": "display_data"
    }
   ],
   "source": [
    "fig, ax = plt.subplots(1, 1, figsize=(15, 8))\n",
    "ax.plot([1, 2, 3, 4, 5], base_pred_avg, color='red')\n",
    "\n",
    "ax.set_xlabel('Actual ratings')\n",
    "ax.set_ylabel('Average Predicted ratings')\n",
    "ax.set_title('Actual vs. avg. predicted ratings for baseline model, training set')\n",
    "ax.set_ylim((1,5));"
   ]
  },
  {
   "cell_type": "code",
   "execution_count": 29,
   "metadata": {},
   "outputs": [
    {
     "data": {
      "image/png": "[encoded data removed]",
      "text/plain": [
       "<matplotlib.figure.Figure at 0x2d459b828>"
      ]
     },
     "metadata": {},
     "output_type": "display_data"
    }
   ],
   "source": [
    "fig, ax = plt.subplots(1, 1, figsize=(15, 8))\n",
    "ax.plot([1, 2, 3, 4, 5], base_pred_test_avg, color='red')\n",
    "\n",
    "ax.set_xlabel('Actual ratings')\n",
    "ax.set_ylabel('Average Predicted ratings')\n",
    "ax.set_title('Actual vs. avg. predicted ratings for baseline model, test set')\n",
    "ax.set_ylim((1,5));"
   ]
  },
  {
   "cell_type": "markdown",
   "metadata": {},
   "source": [
    "On average, our predictions for both the training and the test set follow the increasing trend of actual ratings but overestimate for lower ratings."
   ]
  }
 ],
 "metadata": {
  "celltoolbar": "Edit Metadata",
  "kernelspec": {
   "display_name": "Python 3",
   "language": "python",
   "name": "python3"
  },
  "language_info": {
   "codemirror_mode": {
    "name": "ipython",
    "version": 3
   },
   "file_extension": ".py",
   "mimetype": "text/x-python",
   "name": "python",
   "nbconvert_exporter": "python",
   "pygments_lexer": "ipython3",
   "version": "3.6.1"
  }
 },
 "nbformat": 4,
 "nbformat_minor": 2
}
