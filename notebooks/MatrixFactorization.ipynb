{
 "cells": [
  {
   "cell_type": "markdown",
   "metadata": {
    "hide": true
   },
   "source": [
    "### Importing Data"
   ]
  },
  {
   "cell_type": "code",
   "execution_count": 3,
   "metadata": {
    "collapsed": true,
    "hide": true
   },
   "outputs": [],
   "source": [
    "import numpy as np\n",
    "import pandas as pd\n",
    "import seaborn as sns\n",
    "import json\n",
    "import matplotlib\n",
    "import matplotlib.pyplot as plt\n",
    "import sklearn.metrics as metrics\n",
    "from sklearn.linear_model import LinearRegression\n",
    "from sklearn.linear_model import RidgeCV\n",
    "from sklearn.linear_model import LassoCV\n",
    "from random import *\n",
    "from math import log\n",
    "import json\n",
    "\n",
    "%matplotlib inline"
   ]
  },
  {
   "cell_type": "code",
   "execution_count": 4,
   "metadata": {
    "collapsed": true,
    "hide": true
   },
   "outputs": [],
   "source": [
    "\n",
    "with open('dataset/good_reviews.json') as f:\n",
    "    good_reviews = [json.loads(line) for line in f]\n",
    "with open('dataset/business.json') as f:\n",
    "    business_data = [json.loads(line) for line in f]\n",
    "with open('dataset/user.json') as f:\n",
    "    user_data = [json.loads(line) for line in f]\n",
    "\n"
   ]
  },
  {
   "cell_type": "code",
   "execution_count": 8,
   "metadata": {
    "collapsed": true,
    "hide": true
   },
   "outputs": [],
   "source": [
    "good_reviews = good_reviews[0]"
   ]
  },
  {
   "cell_type": "code",
   "execution_count": 10,
   "metadata": {
    "collapsed": true,
    "hide": true
   },
   "outputs": [],
   "source": [
    "sorted_user_reviews = sorted(good_reviews, key = lambda x: x['user_id'])"
   ]
  },
  {
   "cell_type": "markdown",
   "metadata": {},
   "source": [
    "## Creating the train, valid, and test sets"
   ]
  },
  {
   "cell_type": "markdown",
   "metadata": {},
   "source": [
    "For matrix factorization, we faced several unique issues:\n",
    "\n",
    "* Matrix Sparsity: Our data was incredibly sparse. Originally, our matrix had <5% non zero values. However, single-value decomposition doesn't work on sparse matrices. Thus, we had to reduce our set of restaurant reviews significantly, to only include restaurants and user with over 100 reviews. We also used alternating least squares to find the latent factor vectors, as opposed to SVD.\n",
    "\n",
    "* Runtime: The process of learning the latent was incredibly time intensive. Thus, we limited our model to 4 latent factors. \n",
    "\n",
    "* Size of model: Our train set included 1252 users and 3484 restaurants, Thus, we only computed latent factors for 1252 users and 3484 items.\n",
    "\n",
    "We also made sure that the same users were represented in the train, valid, and test sets and in the same proportion. "
   ]
  },
  {
   "cell_type": "code",
   "execution_count": 12,
   "metadata": {
    "collapsed": true,
    "hide": true
   },
   "outputs": [],
   "source": [
    "train_set = []\n",
    "valid_set = []\n",
    "test_set = []\n",
    "for i,x in enumerate(sorted_user_reviews[:100000]):\n",
    "    short = {k: x[k] for k in ['business_id', 'stars', 'user_id']}\n",
    "    if i % 3 == 0:\n",
    "        train_set.append(short)\n",
    "    elif i % 3 == 1:\n",
    "        valid_set.append(short)  \n",
    "    else:\n",
    "        test_set.append(short)"
   ]
  },
  {
   "cell_type": "code",
   "execution_count": 13,
   "metadata": {
    "collapsed": true,
    "hide": true
   },
   "outputs": [],
   "source": [
    "train_df = pd.DataFrame(train_set)\n",
    "valid_df = pd.DataFrame(valid_set)\n",
    "test_df = pd.DataFrame(test_set)"
   ]
  },
  {
   "cell_type": "markdown",
   "metadata": {
    "hide": true
   },
   "source": [
    "# ALS Matrix Factorization with 4 Factors"
   ]
  },
  {
   "cell_type": "markdown",
   "metadata": {
    "hide": true
   },
   "source": [
    "### Making the dataset more manageable"
   ]
  },
  {
   "cell_type": "code",
   "execution_count": 338,
   "metadata": {
    "scrolled": true
   },
   "outputs": [],
   "source": [
    "trimmed_train = train_df[:2000]\n",
    "trimmed_train.shape\n",
    "train_businesses = [x['business_id'] for x in train_set]\n",
    "train_users = [x['user_id'] for x in train_set]\n",
    "c = Counter()\n",
    "c = Counter(train_businesses)\n",
    "d = Counter()\n",
    "d = Counter(train_users)\n",
    "keep_business = [item for item in c if c[item] > 15 ]\n",
    "keep_users = [item for item in d if d[item] > 15]"
   ]
  },
  {
   "cell_type": "code",
   "execution_count": 342,
   "metadata": {},
   "outputs": [],
   "source": [
    "keep_reviews = [item for item in train_set if item['business_id'] in keep_business and item['user_id'] in keep_users]"
   ]
  },
  {
   "cell_type": "code",
   "execution_count": 344,
   "metadata": {},
   "outputs": [
    {
     "data": {
      "text/html": [
       "<div>\n",
       "<style>\n",
       "    .dataframe thead tr:only-child th {\n",
       "        text-align: right;\n",
       "    }\n",
       "\n",
       "    .dataframe thead th {\n",
       "        text-align: left;\n",
       "    }\n",
       "\n",
       "    .dataframe tbody tr th {\n",
       "        vertical-align: top;\n",
       "    }\n",
       "</style>\n",
       "<table border=\"1\" class=\"dataframe\">\n",
       "  <thead>\n",
       "    <tr style=\"text-align: right;\">\n",
       "      <th></th>\n",
       "      <th>business_id</th>\n",
       "      <th>stars</th>\n",
       "      <th>user_id</th>\n",
       "    </tr>\n",
       "  </thead>\n",
       "  <tbody>\n",
       "    <tr>\n",
       "      <th>0</th>\n",
       "      <td>riFzCvp77DMKDX-5GoTpqA</td>\n",
       "      <td>5</td>\n",
       "      <td>-267Yx8RmdP6io2-qI4UcQ</td>\n",
       "    </tr>\n",
       "    <tr>\n",
       "      <th>1</th>\n",
       "      <td>UPIYuRaZvknINOd1w8kqRQ</td>\n",
       "      <td>4</td>\n",
       "      <td>-267Yx8RmdP6io2-qI4UcQ</td>\n",
       "    </tr>\n",
       "    <tr>\n",
       "      <th>2</th>\n",
       "      <td>fL-b760btOaGa85OJ9ut3w</td>\n",
       "      <td>3</td>\n",
       "      <td>-50XWnmQGqBgEI-9ANvLlg</td>\n",
       "    </tr>\n",
       "    <tr>\n",
       "      <th>3</th>\n",
       "      <td>hIUKufhwR6Ifn7bi0-phLA</td>\n",
       "      <td>5</td>\n",
       "      <td>-50XWnmQGqBgEI-9ANvLlg</td>\n",
       "    </tr>\n",
       "    <tr>\n",
       "      <th>4</th>\n",
       "      <td>Ec9CBmL3285XkeHaNp-bSQ</td>\n",
       "      <td>4</td>\n",
       "      <td>-50XWnmQGqBgEI-9ANvLlg</td>\n",
       "    </tr>\n",
       "  </tbody>\n",
       "</table>\n",
       "</div>"
      ],
      "text/plain": [
       "              business_id  stars                 user_id\n",
       "0  riFzCvp77DMKDX-5GoTpqA      5  -267Yx8RmdP6io2-qI4UcQ\n",
       "1  UPIYuRaZvknINOd1w8kqRQ      4  -267Yx8RmdP6io2-qI4UcQ\n",
       "2  fL-b760btOaGa85OJ9ut3w      3  -50XWnmQGqBgEI-9ANvLlg\n",
       "3  hIUKufhwR6Ifn7bi0-phLA      5  -50XWnmQGqBgEI-9ANvLlg\n",
       "4  Ec9CBmL3285XkeHaNp-bSQ      4  -50XWnmQGqBgEI-9ANvLlg"
      ]
     },
     "execution_count": 344,
     "metadata": {},
     "output_type": "execute_result"
    }
   ],
   "source": [
    "trimmed_train = pd.DataFrame(keep_reviews)\n",
    "trimmed_train.head()"
   ]
  },
  {
   "cell_type": "markdown",
   "metadata": {},
   "source": [
    "### Getting the user and item deviations"
   ]
  },
  {
   "cell_type": "code",
   "execution_count": 345,
   "metadata": {
    "collapsed": true
   },
   "outputs": [],
   "source": [
    "restaurant_data = [x for x in business_data if 'Restaurants' in x['categories']]\n",
    "\n",
    "good_restaurants_info = [x for x in restaurant_data if x['review_count'] >= 100]\n",
    "restaurant_dict = {x['business_id']: x['stars'] for x in restaurant_data}\n",
    "good_user_info = [x for x in user_data if x['review_count'] >= 100]\n",
    "user_dict = {x['user_id']: x['average_stars'] for x in good_user_info}\n",
    "\n",
    "global_review_average = sum(trimmed_train['stars'].values)/len(trimmed_train)\n",
    "user_global_average = sum(user_dict.values())/len(user_dict)\n",
    "rest_global_average = sum(restaurant_dict.values())/len(restaurant_dict)\n",
    "user_deviations = {x: user_dict[x] - user_global_average for x in user_dict}\n",
    "restaurant_deviations = {x: restaurant_dict[x] - rest_global_average for x in restaurant_dict}"
   ]
  },
  {
   "cell_type": "markdown",
   "metadata": {},
   "source": [
    "### Making the dictionaries"
   ]
  },
  {
   "cell_type": "markdown",
   "metadata": {},
   "source": [
    "We wanted to create 2 dictionaries:\n",
    "* ratings_by_restaurant_train_trimmed: This dictionary has key = restaurant and value = all the reviews given to the restaurant\n",
    "* ratings_by_user_train_trimmed: This dictionary has key = user and value = all the reviews that the user has given"
   ]
  },
  {
   "cell_type": "code",
   "execution_count": 346,
   "metadata": {
    "collapsed": true
   },
   "outputs": [],
   "source": [
    "ratings_by_restaurant_train_trimmed = {}\n",
    "ratings_by_user_train_trimmed = {}\n",
    "\n",
    "for i in range(len(trimmed_train)):\n",
    "    row = trimmed_train.iloc[i]\n",
    "    bus_id = row[0]\n",
    "    stars = row[1]\n",
    "    user_id = row[2]\n",
    "    if bus_id not in ratings_by_restaurant_train_trimmed:\n",
    "        ratings_by_restaurant_train_trimmed[bus_id] = {user_id : stars}\n",
    "    else:\n",
    "        ratings_by_restaurant_train_trimmed[bus_id][user_id] = stars\n",
    "        \n",
    "    if user_id not in ratings_by_user_train_trimmed:\n",
    "        ratings_by_user_train_trimmed[user_id] = {bus_id : stars}\n",
    "    else:\n",
    "        ratings_by_user_train_trimmed[user_id][bus_id] = stars\n",
    "    "
   ]
  },
  {
   "cell_type": "code",
   "execution_count": 409,
   "metadata": {},
   "outputs": [
    {
     "data": {
      "text/plain": [
       "(308, 173)"
      ]
     },
     "execution_count": 409,
     "metadata": {},
     "output_type": "execute_result"
    }
   ],
   "source": [
    "len(ratings_by_user_train_trimmed), len(ratings_by_restaurant_train_trimmed)"
   ]
  },
  {
   "cell_type": "markdown",
   "metadata": {},
   "source": [
    "### Preparing for Alternating Least Squares"
   ]
  },
  {
   "cell_type": "markdown",
   "metadata": {},
   "source": [
    "We create the random dummy vectors to initial our p and q vectors, set lambda the regularization parameter equal to 0.1, and decided our tuning vectors (quadruplets with values between -0.9 and 0.9)."
   ]
  },
  {
   "cell_type": "code",
   "execution_count": 349,
   "metadata": {
    "collapsed": true
   },
   "outputs": [],
   "source": [
    "#create dummy vectors for p and q at start\n",
    "import random\n",
    "q_item = {}\n",
    "p_user = {}\n",
    "#just random\n",
    "for r in ratings_by_restaurant_train_trimmed:\n",
    "    q_item[r] = [randrange(-10,10)/10 for _ in range(4)]\n",
    "for u in ratings_by_user_train_trimmed:\n",
    "    p_user[u] = [randrange(-10,10)/10 for _ in range(4)]"
   ]
  },
  {
   "cell_type": "code",
   "execution_count": 351,
   "metadata": {
    "collapsed": true
   },
   "outputs": [],
   "source": [
    "tuning_vectors = []\n",
    "tuning_values = [-0.9, -0.7, -0.5, -0.3, -0.1, 0.1, 0.3, 0.5, 0.7, 0.9]\n",
    "for a in tuning_values:\n",
    "    for b in tuning_values:\n",
    "        for c in tuning_values:\n",
    "            for d in tuning_values:\n",
    "                tuning_vectors.append([a, b, c, d])"
   ]
  },
  {
   "cell_type": "code",
   "execution_count": 353,
   "metadata": {
    "collapsed": true
   },
   "outputs": [],
   "source": [
    "lmda = 0.1"
   ]
  },
  {
   "cell_type": "markdown",
   "metadata": {},
   "source": [
    "### Defining tuning functions"
   ]
  },
  {
   "cell_type": "code",
   "execution_count": 354,
   "metadata": {
    "collapsed": true
   },
   "outputs": [],
   "source": [
    "def calculate_sum_user_4(tuning_vector, user):\n",
    "    user_vector = tuning_vector\n",
    "    uv_mag = np.linalg.norm(user_vector)\n",
    "    summation = 0\n",
    "    #iterate through restaurants that user has rated\n",
    "    for restaurant in ratings_by_user_train_trimmed[user]:\n",
    "        #get the restaurants vector\n",
    "        item_vector = q_item[restaurant]\n",
    "        rv_mag = np.linalg.norm(item_vector)\n",
    "        term = np.dot(user_vector, item_vector) \n",
    "        #get the biases\n",
    "        user_dev = user_deviations[user]\n",
    "        item_dev = restaurant_deviations[restaurant]\n",
    "        #follow the MLE equation\n",
    "        error = (ratings_by_user_train_trimmed[user][restaurant] - global_review_average - term - user_dev - item_dev) ** 2 \n",
    "        + lmda * (uv_mag **2 + rv_mag ** 2 + user_dev ** 2 + item_dev ** 2)\n",
    "        summation += error\n",
    "    return summation\n",
    "\n",
    "\n",
    "def minimize_user_vectors_4():\n",
    "    convergence = 0\n",
    "    #iterate though all the the users\n",
    "    for user in ratings_by_user_train_trimmed:\n",
    "        #list of tuples (tuning vector, sum)\n",
    "        tuning_sums = []\n",
    "        #iterate though the vectors to find the best one for the user\n",
    "        for tuning_vector in tuning_vectors:\n",
    "            tuning_sum = calculate_sum_user_4(tuning_vector, user)\n",
    "            tuning_sums.append((tuning_vector, tuning_sum))\n",
    "        #get the vector with the lowest sum\n",
    "        best = (min(tuning_sums, key = lambda x: x[1])[0])\n",
    "        #get the difference between the current vector and the best vector\n",
    "        difference = abs(best[0] - p_user[user][0]) + abs(best[1] - p_user[user][1])\n",
    "        + abs(best[2] - p_user[user][2]) + abs(best[3] - p_user[user][3])\n",
    "        #set vector to best\n",
    "        p_user[user] = best\n",
    "        #add the difference to the convergence\n",
    "        convergence += difference\n",
    "    return convergence\n",
    "                     \n",
    "                 "
   ]
  },
  {
   "cell_type": "code",
   "execution_count": 329,
   "metadata": {
    "collapsed": true
   },
   "outputs": [],
   "source": [
    "def calculate_sum_item_4(tuning_vector, item):\n",
    "    item_vector = tuning_vector\n",
    "    rv_mag = np.linalg.norm(item_vector)\n",
    "    summation = 0\n",
    "    for user in ratings_by_restaurant_train_trimmed[item]:\n",
    "        user_vector = p_user[user]\n",
    "        uv_mag = np.linalg.norm(user_vector)\n",
    "        term = np.dot(item_vector, user_vector) \n",
    "        user_dev = user_deviations[user]\n",
    "        item_dev = restaurant_deviations[item]\n",
    "        error = (ratings_by_restaurant_train_trimmed[item][user] - global_review_average - user_dev - item_dev - term) ** 2 \n",
    "        + lmda * (uv_mag **2 + rv_mag ** 2 + user_dev ** 2 + item_dev ** 2)\n",
    "        #print ('error', error)\n",
    "        summation += error\n",
    "    return summation\n",
    "\n",
    "\n",
    "def minimize_item_vectors_4():\n",
    "    #print ('minimizing item vectors')\n",
    "    convergence = 0\n",
    "    #iterate though all the the restaurants\n",
    "    for item in ratings_by_restaurant_train_trimmed:\n",
    "        #list with tuple (vector, corresponding sum)\n",
    "        tuning_sums = []\n",
    "        #iterate though the vectors to find the best one for the restaurant\n",
    "        for tuning_vector in tuning_vectors:\n",
    "            tuning_sum = calculate_sum_item_4(tuning_vector, item)\n",
    "            tuning_sums.append((tuning_vector, tuning_sum))\n",
    "        best = (min(tuning_sums, key = lambda x: x[1])[0])\n",
    "        #print ('best', best)\n",
    "        #get the difference between the current vector and the best vector\n",
    "        difference = abs(best[0] - q_item[item][0]) + abs(best[1] - q_item[item][1]) \n",
    "        + abs(best[2] - q_item[item][2]) + abs(best[3] - q_item[item][3])\n",
    "        #set vector to best\n",
    "        #print ('best',best)\n",
    "        q_item[item] = best\n",
    "        convergence += difference\n",
    "        #print ('convergence value', convergence)\n",
    "    return convergence\n",
    "                     \n",
    "\n",
    "            "
   ]
  },
  {
   "cell_type": "code",
   "execution_count": 355,
   "metadata": {
    "collapsed": true
   },
   "outputs": [],
   "source": [
    "def ALS_4():\n",
    "    print ('minimizing user vectors')\n",
    "    conv = minimize_user_vectors_4()\n",
    "    print (conv)\n",
    "    #whil vectors have not converged\n",
    "    while conv > 10: \n",
    "        for _ in range(1000):\n",
    "            print ('minimizing item vectors')\n",
    "            conv = minimize_item_vectors_4()\n",
    "            print (conv)\n",
    "            print ('minimizing user vectors')\n",
    "            conv = minimize_user_vectors_4()\n",
    "            print (conv)\n",
    "                \n",
    "              "
   ]
  },
  {
   "cell_type": "code",
   "execution_count": 356,
   "metadata": {
    "hide": true,
    "scrolled": true
   },
   "outputs": [
    {
     "name": "stdout",
     "output_type": "stream",
     "text": [
      "minimizing user vectors\n",
      "463.99999999999994\n",
      "minimizing item vectors\n",
      "133.7\n",
      "minimizing user vectors\n",
      "193.1999999999999\n",
      "minimizing item vectors\n",
      "65.80000000000001\n",
      "minimizing user vectors\n",
      "110.8000000000002\n",
      "minimizing item vectors\n",
      "43.99999999999998\n",
      "minimizing user vectors\n",
      "86.00000000000006\n",
      "minimizing item vectors\n",
      "24.999999999999982\n",
      "minimizing user vectors\n",
      "51.60000000000002\n",
      "minimizing item vectors\n",
      "24.199999999999985\n",
      "minimizing user vectors\n",
      "37.20000000000001\n",
      "minimizing item vectors\n",
      "20.599999999999994\n",
      "minimizing user vectors\n",
      "26.199999999999996\n",
      "minimizing item vectors\n",
      "17.0\n",
      "minimizing user vectors\n",
      "14.399999999999999\n",
      "minimizing item vectors\n",
      "5.4\n",
      "minimizing user vectors\n",
      "17.999999999999993\n",
      "minimizing item vectors\n",
      "5.4\n",
      "minimizing user vectors\n",
      "11.0\n",
      "minimizing item vectors\n",
      "5.6000000000000005\n",
      "minimizing user vectors\n"
     ]
    },
    {
     "name": "stderr",
     "output_type": "stream",
     "text": [
      "ERROR:root:Internal Python error in the inspect module.\n",
      "Below is the traceback from this internal error.\n",
      "\n"
     ]
    },
    {
     "name": "stdout",
     "output_type": "stream",
     "text": [
      "Traceback (most recent call last):\n",
      "  File \"/anaconda/lib/python3.6/site-packages/IPython/core/interactiveshell.py\", line 2881, in run_code\n",
      "    exec(code_obj, self.user_global_ns, self.user_ns)\n",
      "  File \"<ipython-input-356-cf41abbe0d88>\", line 1, in <module>\n",
      "    ALS_4()\n",
      "  File \"<ipython-input-355-d795ed05eb00>\", line 12, in ALS_4\n",
      "    conv = minimize_user_vectors_4()\n",
      "  File \"<ipython-input-354-421af5f37946>\", line 29, in minimize_user_vectors_4\n",
      "    tuning_sum = calculate_sum_user_4(tuning_vector, user)\n",
      "  File \"<ipython-input-354-421af5f37946>\", line 10, in calculate_sum_user_4\n",
      "    term = np.dot(user_vector, item_vector)\n",
      "KeyboardInterrupt\n",
      "\n",
      "During handling of the above exception, another exception occurred:\n",
      "\n",
      "Traceback (most recent call last):\n",
      "  File \"/anaconda/lib/python3.6/site-packages/IPython/core/interactiveshell.py\", line 1821, in showtraceback\n",
      "    stb = value._render_traceback_()\n",
      "AttributeError: 'KeyboardInterrupt' object has no attribute '_render_traceback_'\n",
      "\n",
      "During handling of the above exception, another exception occurred:\n",
      "\n",
      "Traceback (most recent call last):\n",
      "  File \"/anaconda/lib/python3.6/site-packages/IPython/core/ultratb.py\", line 1132, in get_records\n",
      "    return _fixed_getinnerframes(etb, number_of_lines_of_context, tb_offset)\n",
      "  File \"/anaconda/lib/python3.6/site-packages/IPython/core/ultratb.py\", line 313, in wrapped\n",
      "    return f(*args, **kwargs)\n",
      "  File \"/anaconda/lib/python3.6/site-packages/IPython/core/ultratb.py\", line 358, in _fixed_getinnerframes\n",
      "    records = fix_frame_records_filenames(inspect.getinnerframes(etb, context))\n",
      "  File \"/anaconda/lib/python3.6/inspect.py\", line 1453, in getinnerframes\n",
      "    frameinfo = (tb.tb_frame,) + getframeinfo(tb, context)\n",
      "  File \"/anaconda/lib/python3.6/inspect.py\", line 1411, in getframeinfo\n",
      "    filename = getsourcefile(frame) or getfile(frame)\n",
      "  File \"/anaconda/lib/python3.6/inspect.py\", line 666, in getsourcefile\n",
      "    if getattr(getmodule(object, filename), '__loader__', None) is not None:\n",
      "  File \"/anaconda/lib/python3.6/inspect.py\", line 695, in getmodule\n",
      "    file = getabsfile(object, _filename)\n",
      "  File \"/anaconda/lib/python3.6/inspect.py\", line 679, in getabsfile\n",
      "    return os.path.normcase(os.path.abspath(_filename))\n",
      "  File \"/anaconda/lib/python3.6/posixpath.py\", line 374, in abspath\n",
      "    cwd = os.getcwd()\n",
      "FileNotFoundError: [Errno 2] No such file or directory\n"
     ]
    },
    {
     "ename": "KeyboardInterrupt",
     "evalue": "",
     "output_type": "error",
     "traceback": [
      "\u001b[0;31m---------------------------------------------------------------------------\u001b[0m"
     ]
    }
   ],
   "source": [
    "ALS_4()"
   ]
  },
  {
   "cell_type": "markdown",
   "metadata": {},
   "source": [
    "Here are the first ten final vectors after convergence:"
   ]
  },
  {
   "cell_type": "code",
   "execution_count": 357,
   "metadata": {},
   "outputs": [
    {
     "data": {
      "text/plain": [
       "[('-267Yx8RmdP6io2-qI4UcQ', [0.5, -0.3, -0.7, 0.9]),\n",
       " ('-50XWnmQGqBgEI-9ANvLlg', [-0.3, 0.9, -0.7, -0.7]),\n",
       " ('-9WVpTW5LAEo9y6PbW0-cw', [0.9, -0.1, 0.7, -0.3]),\n",
       " ('-ARdx8hOcEWlMDjzwLYZ_g', [0.7, -0.7, 0.9, -0.9]),\n",
       " ('-C-l8EHSLXtZZVfUAUhsPA', [-0.9, -0.7, -0.9, 0.3]),\n",
       " ('-EJorVxe7h2GSxdiRyMmDA', [0.7, -0.7, -0.1, -0.7]),\n",
       " ('-Fy91nyOFqPv9M_MaZ4W2g', [-0.1, 0.1, 0.1, 0.9]),\n",
       " ('-RhRXVW9z9fs5zzxhFfnHg', [0.9, 0.9, 0.7, 0.3]),\n",
       " ('-Vu7L3U7-kxDyY1VHxw3zw', [-0.9, -0.9, 0.9, -0.7]),\n",
       " ('-_2h2cJlBOWAYrfplMU-Cg', [0.5, 0.5, -0.1, -0.7])]"
      ]
     },
     "execution_count": 357,
     "metadata": {},
     "output_type": "execute_result"
    }
   ],
   "source": [
    "list(p_user.items())[:10]"
   ]
  },
  {
   "cell_type": "code",
   "execution_count": 358,
   "metadata": {},
   "outputs": [
    {
     "data": {
      "text/plain": [
       "[('riFzCvp77DMKDX-5GoTpqA', [-0.3, 0.9, -0.5, 0.9]),\n",
       " ('UPIYuRaZvknINOd1w8kqRQ', [-0.9, 0.3, -0.9, -0.9]),\n",
       " ('fL-b760btOaGa85OJ9ut3w', [-0.1, -0.9, 0.9, 0.9]),\n",
       " ('hIUKufhwR6Ifn7bi0-phLA', [-0.5, -0.9, -0.7, -0.5]),\n",
       " ('Ec9CBmL3285XkeHaNp-bSQ', [-0.1, -0.7, -0.9, 0.9]),\n",
       " ('eoHdUeQDNgQ6WYEnP2aiRw', [-0.9, -0.5, 0.9, -0.1]),\n",
       " ('D3dAx-QW_uuClz4MambeHA', [-0.7, 0.9, 0.1, -0.7]),\n",
       " ('OGRB__fguKfGpPdH7FvBDA', [0.9, 0.3, 0.3, -0.3]),\n",
       " ('4JNXUYY8wbaaDmk3BPzlWw', [-0.7, 0.9, 0.9, -0.9]),\n",
       " ('umXvdus9LbC6oxtLdXelFQ', [0.9, -0.7, -0.9, -0.9])]"
      ]
     },
     "execution_count": 358,
     "metadata": {},
     "output_type": "execute_result"
    }
   ],
   "source": [
    "list(q_item.items())[:10]"
   ]
  },
  {
   "cell_type": "markdown",
   "metadata": {},
   "source": [
    "## Validating to determine the best lambda\n"
   ]
  },
  {
   "cell_type": "code",
   "execution_count": 100,
   "metadata": {
    "collapsed": true
   },
   "outputs": [],
   "source": [
    "valid_businesses = [x['business_id'] for x in valid_set]\n",
    "valid_users = [x['user_id'] for x in valid_set]"
   ]
  },
  {
   "cell_type": "code",
   "execution_count": 119,
   "metadata": {
    "collapsed": true
   },
   "outputs": [],
   "source": [
    "from collections import Counter\n",
    "c = Counter()\n",
    "c = Counter(valid_businesses)\n",
    "d = Counter()\n",
    "d = Counter(valid_users)\n",
    "keep_business = [item for item in c if c[item] > 20 ]\n",
    "keep_users = [item for item in d if d[item] > 20]"
   ]
  },
  {
   "cell_type": "markdown",
   "metadata": {},
   "source": [
    "### Validating to determing the regularization parameter\n"
   ]
  },
  {
   "cell_type": "markdown",
   "metadata": {},
   "source": [
    "We cut down on our valid set, keeping ~300 data points, in order to expedite the process of validation."
   ]
  },
  {
   "cell_type": "markdown",
   "metadata": {},
   "source": [
    "Our code for cross validation is similar to our code above."
   ]
  },
  {
   "cell_type": "code",
   "execution_count": 416,
   "metadata": {
    "collapsed": true
   },
   "outputs": [],
   "source": [
    "def calculate_sum_user_CV(tuning_vector, user, LAMBDA, q_item_CV, p_user_CV):\n",
    "    user_vector = tuning_vector\n",
    "    uv_mag = np.linalg.norm(user_vector)\n",
    "    summation = 0\n",
    "    for restaurant in ratings_by_user_train_trimmed[user]:\n",
    "        item_vector = q_item_CV[restaurant]\n",
    "        rv_mag = np.linalg.norm(item_vector)\n",
    "        term = np.dot(user_vector, item_vector) \n",
    "        user_dev = user_deviations[user]\n",
    "        item_dev = restaurant_deviations[restaurant]\n",
    "        error = (ratings_by_user_train_trimmed[user][restaurant] - global_review_average - term - user_dev - item_dev) ** 2 \n",
    "        + LAMBDA * (uv_mag **2 + rv_mag ** 2 + user_dev ** 2 + item_dev ** 2)\n",
    "        summation += error\n",
    "    return summation\n",
    "\n",
    "def minimize_user_vectors_CV(LAMBDA, q_item_CV, p_user_CV):\n",
    "    convergence = 0\n",
    "    for user in ratings_by_user_train_trimmed:\n",
    "        tuning_sums = []\n",
    "        for tuning_vector in tuning_vectors:\n",
    "            tuning_sum = calculate_sum_user_CV(tuning_vector, user, LAMBDA, q_item_CV, p_user_CV)\n",
    "            tuning_sums.append((tuning_vector, tuning_sum))\n",
    "        best = (min(tuning_sums, key = lambda x: x[1])[0])\n",
    "        difference = abs(best[0] - p_user_CV[user][0]) + abs(best[1] - p_user_CV[user][1])\n",
    "        + abs(best[2] - p_user_CV[user][2]) + abs(best[3] - p_user_CV[user][3])\n",
    "        p_user_CV[user] = best\n",
    "        convergence += difference\n",
    "    return convergence\n",
    "\n",
    "def calculate_sum_item_CV(tuning_vector, item, LAMBDA, q_item_CV, p_user_CV):\n",
    "    item_vector = tuning_vector\n",
    "    rv_mag = np.linalg.norm(item_vector)\n",
    "    summation = 0\n",
    "    for user in ratings_by_restaurant_train_trimmed[item]:\n",
    "        user_vector = p_user_CV[user]\n",
    "        uv_mag = np.linalg.norm(user_vector)\n",
    "        term = np.dot(item_vector, user_vector) \n",
    "        user_dev = user_deviations[user]\n",
    "        item_dev = restaurant_deviations[item]\n",
    "        error = (ratings_by_restaurant_train_trimmed[item][user] - global_review_average - user_dev - item_dev - term) ** 2 \n",
    "        + LAMBDA * (uv_mag **2 + rv_mag ** 2 + user_dev ** 2 + item_dev ** 2)\n",
    "        summation += error\n",
    "    return summation\n",
    "\n",
    "\n",
    "def minimize_item_vectors_CV(LAMBDA, q_item_CV, p_user_CV):\n",
    "    convergence = 0\n",
    "    for item in ratings_by_restaurant_train_trimmed:\n",
    "        tuning_sums = []\n",
    "        for tuning_vector in tuning_vectors:\n",
    "            tuning_sum = calculate_sum_item_CV(tuning_vector, item, LAMBDA, q_item_CV, p_user_CV)\n",
    "            tuning_sums.append((tuning_vector, tuning_sum))\n",
    "        best = (min(tuning_sums, key = lambda x: x[1])[0])\n",
    "        difference = abs(best[0] - q_item_CV[item][0]) + abs(best[1] - q_item_CV[item][1]) \n",
    "        + abs(best[2] - q_item_CV[item][2]) + abs(best[3] - q_item_CV[item][3])\n",
    "        q_item_CV[item] = best\n",
    "        convergence += difference\n",
    "    return convergence\n",
    "                     \n",
    "                 "
   ]
  },
  {
   "cell_type": "code",
   "execution_count": 414,
   "metadata": {
    "collapsed": true
   },
   "outputs": [],
   "source": [
    "def ALS_CV(q_item_CV, p_user_CV, LAMBDA):\n",
    "    print ('optimizing item vectors')\n",
    "    convergence = minimize_item_vectors_CV(LAMBDA, q_item_CV, p_user_CV)\n",
    "    print (convergence)\n",
    "    while convergence > 5:\n",
    "        print ('optimizing user vectors')\n",
    "        convergence = minimize_user_vectors_CV(LAMBDA, q_item_CV, p_user_CV)\n",
    "        print (convergence)\n",
    "        print ('optimizing item vectors')\n",
    "        convergence = minimize_item_vectors_CV(LAMBDA, q_item_CV, p_user_CV)\n",
    "        print (convergence)\n",
    "    return q_item_CV, p_user_CV\n",
    "\n",
    "def predict(p_user_CV, q_item_CV, user_id, business_id):\n",
    "    user_dev = user_deviations[user_id]\n",
    "    item_dev = restaurant_deviations[business_id]\n",
    "    latent_term = np.dot(p_user_CV[user_id], q_item_CV[business_id]) \n",
    "    #print (latent_term)\n",
    "    prediction = global_review_average + user_dev + item_dev + latent_term\n",
    "    return int(round(prediction))\n",
    "\n",
    "def score_CV(q_item_CV, p_user_CV, LAMBDA, df):\n",
    "    predictions = []\n",
    "    for j in range(len(df)):\n",
    "        row = df.iloc[j]\n",
    "        business_id = row[0]\n",
    "        user_id = row[2]\n",
    "        pred = predict(p_user_CV, q_item_CV, user_id, business_id)\n",
    "        #print (pred)\n",
    "        predictions.append(pred)\n",
    "    print (predictions)\n",
    "    actual = df['stars']\n",
    "    df['validation_{}'.format(LAMBDA)] = predictions\n",
    "    return metrics.accuracy_score(actual, predictions)\n",
    "        \n",
    "def validate(LAMBDA):\n",
    "    q_item_CV = {}\n",
    "    p_user_CV = {}\n",
    "    for r in ratings_by_restaurant_train_trimmed:\n",
    "        q_item_CV[r] = [randrange(-10,10)/10 for _ in range(4)]\n",
    "    for u in ratings_by_user_train_trimmed:\n",
    "        p_user_CV[u] = [randrange(-10,10)/10 for _ in range(4)]\n",
    "    best_q_item, best_p_user = ALS_CV(q_item_CV, p_user_CV, LAMBDA)\n",
    "    score = score_CV(best_q_item, best_p_user, LAMBDA, trimmed_train)\n",
    "    return score\n",
    "\n",
    "def run_validation(LAMBDAS):\n",
    "    validation_scores = {}\n",
    "    for LAMBDA in LAMBDAS:\n",
    "        print (LAMBDA)\n",
    "        score = validate(LAMBDA)\n",
    "        print ('score', score)\n",
    "        validation_scores[LAMBDA] = score\n",
    "    return validation_scores\n",
    "        \n",
    "            "
   ]
  },
  {
   "cell_type": "code",
   "execution_count": null,
   "metadata": {},
   "outputs": [
    {
     "name": "stdout",
     "output_type": "stream",
     "text": [
      "0.01\n",
      "optimizing item vectors\n",
      "257.39999999999986\n",
      "optimizing user vectors\n",
      "336.10000000000014\n",
      "optimizing item vectors\n",
      "75.20000000000006\n",
      "optimizing user vectors\n",
      "118.40000000000015\n",
      "optimizing item vectors\n",
      "57.00000000000001\n",
      "optimizing user vectors\n",
      "98.60000000000012\n",
      "optimizing item vectors\n",
      "30.199999999999985\n",
      "optimizing user vectors\n"
     ]
    }
   ],
   "source": [
    "LAMBDAS = [0.01, 1, 10]\n",
    "run_validation(LAMBDAS)"
   ]
  },
  {
   "cell_type": "code",
   "execution_count": 403,
   "metadata": {
    "hide": true
   },
   "outputs": [
    {
     "data": {
      "text/plain": [
       "{0.001: 0.59477124183,\n",
       " 0.01: 0.598039215686,\n",
       " 0.1: 0.598039215686,\n",
       " 1: 0.598039215686,\n",
       " 10: 0.601307189542}"
      ]
     },
     "execution_count": 403,
     "metadata": {},
     "output_type": "execute_result"
    }
   ],
   "source": [
    "validation_scores"
   ]
  },
  {
   "cell_type": "code",
   "execution_count": null,
   "metadata": {
    "collapsed": true
   },
   "outputs": [],
   "source": []
  },
  {
   "cell_type": "markdown",
   "metadata": {},
   "source": [
    "The best lambda according to our validation is 10. However, because ALS is extremely time-intensive, we were unable to retune our latent factors using the lambda."
   ]
  },
  {
   "cell_type": "code",
   "execution_count": 294,
   "metadata": {
    "collapsed": true
   },
   "outputs": [],
   "source": [
    "def model_predict(user_id, business_id):\n",
    "    user_dev = user_deviations[user_id]\n",
    "    item_dev = restaurant_deviations[business_id]\n",
    "    latent_term = 0\n",
    "    if user_id in p_user:\n",
    "        if business_id in q_item:\n",
    "            latent_term = np.dot(p_user[user_id], q_item[business_id]) \n",
    "    prediction = global_review_average + user_dev + item_dev \n",
    "    latent = prediction + latent_term\n",
    "    #print (prediction)\n",
    "    return int(round(prediction)), int(round(latent))\n",
    "\n",
    "def predict_all(df):\n",
    "    predictions = []\n",
    "    base_predictions = []\n",
    "    for j in range(len(df)):\n",
    "        row = df.iloc[j]\n",
    "        business_id = row[0]\n",
    "        user_id = row[2]\n",
    "        pred, latent = model_predict(user_id, business_id)\n",
    "        base_predictions.append(pred)\n",
    "        predictions.append(latent)\n",
    "    df['pred_base'] = base_predictions\n",
    "    df['pred_latent'] = predictions\n",
    "    base_score = metrics.accuracy_score(df['stars'], df['pred_base'])\n",
    "    latent_score = metrics.accuracy_score(df['stars'], df['pred_latent'])\n",
    "    return base_score, latent_score"
   ]
  },
  {
   "cell_type": "markdown",
   "metadata": {},
   "source": [
    "## Evaluating and comparing the latent factors on the train and test sets"
   ]
  },
  {
   "cell_type": "code",
   "execution_count": 363,
   "metadata": {},
   "outputs": [
    {
     "name": "stdout",
     "output_type": "stream",
     "text": [
      "The accuracy on the train set is 0.39976825028968715\n",
      "The accuracy on the train set using latent factors is 0.9606025492468134\n"
     ]
    }
   ],
   "source": [
    "train_pred = pd.DataFrame(trimmed_train)\n",
    "base, latent = predict_all(train_pred)\n",
    "print ('The accuracy on the train set is {}'.format(base))\n",
    "print ('The accuracy on the train set using latent factors is {}'.format(latent))"
   ]
  },
  {
   "cell_type": "markdown",
   "metadata": {},
   "source": [
    "We modified our test set to include (user, restaurant) reviews where both the user and restaurant had a latent factor associated it."
   ]
  },
  {
   "cell_type": "code",
   "execution_count": 367,
   "metadata": {},
   "outputs": [
    {
     "data": {
      "text/plain": [
       "(657, 5)"
      ]
     },
     "execution_count": 367,
     "metadata": {},
     "output_type": "execute_result"
    }
   ],
   "source": [
    "test_df_v2.shape"
   ]
  },
  {
   "cell_type": "code",
   "execution_count": 404,
   "metadata": {},
   "outputs": [
    {
     "name": "stdout",
     "output_type": "stream",
     "text": [
      "The accuracy on the test set is 0.4292237442922374\n",
      "The accuracy on the test set using latent factors is 0.2861491628614916\n"
     ]
    }
   ],
   "source": [
    "test_set_v2 = [x for x in test_set if x['business_id'] in q_item and x['user_id'] in p_user]\n",
    "test_df_v2 = pd.DataFrame(test_set_v2)\n",
    "base_test, latent_test = predict_all(test_df_v2)\n",
    "print ('The accuracy on the test set is {}'.format(base_test))\n",
    "print ('The accuracy on the test set using latent factors is {}'.format(latent_test))\n"
   ]
  },
  {
   "cell_type": "markdown",
   "metadata": {},
   "source": [
    "Our latent factor model is much more fitted to the train set, resulting in a higher train accuracy but equal test accuracy. "
   ]
  },
  {
   "cell_type": "code",
   "execution_count": 298,
   "metadata": {},
   "outputs": [
    {
     "data": {
      "text/html": [
       "<div>\n",
       "<style>\n",
       "    .dataframe thead tr:only-child th {\n",
       "        text-align: right;\n",
       "    }\n",
       "\n",
       "    .dataframe thead th {\n",
       "        text-align: left;\n",
       "    }\n",
       "\n",
       "    .dataframe tbody tr th {\n",
       "        vertical-align: top;\n",
       "    }\n",
       "</style>\n",
       "<table border=\"1\" class=\"dataframe\">\n",
       "  <thead>\n",
       "    <tr style=\"text-align: right;\">\n",
       "      <th></th>\n",
       "      <th>business_id</th>\n",
       "      <th>stars</th>\n",
       "      <th>user_id</th>\n",
       "      <th>pred</th>\n",
       "      <th>pred_base</th>\n",
       "      <th>pred_latent</th>\n",
       "    </tr>\n",
       "  </thead>\n",
       "  <tbody>\n",
       "    <tr>\n",
       "      <th>0</th>\n",
       "      <td>sZsJooAzpKqOvDysphkqpQ</td>\n",
       "      <td>5</td>\n",
       "      <td>---1lKK3aKOuomHnwAkAow</td>\n",
       "      <td>4</td>\n",
       "      <td>4</td>\n",
       "      <td>4</td>\n",
       "    </tr>\n",
       "    <tr>\n",
       "      <th>1</th>\n",
       "      <td>t6WY1IrohUecqNjd9bG42Q</td>\n",
       "      <td>4</td>\n",
       "      <td>---1lKK3aKOuomHnwAkAow</td>\n",
       "      <td>4</td>\n",
       "      <td>4</td>\n",
       "      <td>4</td>\n",
       "    </tr>\n",
       "    <tr>\n",
       "      <th>2</th>\n",
       "      <td>1JgaRBX0oiRsvEhHF3ZMjw</td>\n",
       "      <td>1</td>\n",
       "      <td>---1lKK3aKOuomHnwAkAow</td>\n",
       "      <td>4</td>\n",
       "      <td>4</td>\n",
       "      <td>4</td>\n",
       "    </tr>\n",
       "    <tr>\n",
       "      <th>3</th>\n",
       "      <td>2BbFeotL85cIaBjSq1SWiA</td>\n",
       "      <td>1</td>\n",
       "      <td>---1lKK3aKOuomHnwAkAow</td>\n",
       "      <td>3</td>\n",
       "      <td>3</td>\n",
       "      <td>3</td>\n",
       "    </tr>\n",
       "    <tr>\n",
       "      <th>4</th>\n",
       "      <td>5cbsjFtrntUAeUx51FaFTg</td>\n",
       "      <td>1</td>\n",
       "      <td>---1lKK3aKOuomHnwAkAow</td>\n",
       "      <td>3</td>\n",
       "      <td>3</td>\n",
       "      <td>3</td>\n",
       "    </tr>\n",
       "  </tbody>\n",
       "</table>\n",
       "</div>"
      ],
      "text/plain": [
       "              business_id  stars                 user_id  pred  pred_base  \\\n",
       "0  sZsJooAzpKqOvDysphkqpQ      5  ---1lKK3aKOuomHnwAkAow     4          4   \n",
       "1  t6WY1IrohUecqNjd9bG42Q      4  ---1lKK3aKOuomHnwAkAow     4          4   \n",
       "2  1JgaRBX0oiRsvEhHF3ZMjw      1  ---1lKK3aKOuomHnwAkAow     4          4   \n",
       "3  2BbFeotL85cIaBjSq1SWiA      1  ---1lKK3aKOuomHnwAkAow     3          3   \n",
       "4  5cbsjFtrntUAeUx51FaFTg      1  ---1lKK3aKOuomHnwAkAow     3          3   \n",
       "\n",
       "   pred_latent  \n",
       "0            4  \n",
       "1            4  \n",
       "2            4  \n",
       "3            3  \n",
       "4            3  "
      ]
     },
     "execution_count": 298,
     "metadata": {},
     "output_type": "execute_result"
    }
   ],
   "source": [
    "train_pred.head()"
   ]
  },
  {
   "cell_type": "code",
   "execution_count": 405,
   "metadata": {
    "collapsed": true
   },
   "outputs": [],
   "source": [
    "pred_avg = []\n",
    "pred_avg_latent = []\n",
    "for i in [1, 2, 3, 4, 5]:\n",
    "    pred_avg.append(train_pred[train_pred['stars'] == i]['pred_base'].mean())\n",
    "    pred_avg_latent.append(train_pred[train_pred['stars'] == i]['pred_latent'].mean())"
   ]
  },
  {
   "cell_type": "code",
   "execution_count": 406,
   "metadata": {},
   "outputs": [
    {
     "data": {
      "image/png": "[encoded data removed]",
      "text/plain": [
       "<matplotlib.figure.Figure at 0x2892f2978>"
      ]
     },
     "metadata": {},
     "output_type": "display_data"
    }
   ],
   "source": [
    "fig, ax = plt.subplots(1, 1, figsize=(15, 8))\n",
    "ax.plot([1, 2, 3, 4, 5], pred_avg, color='red', label = 'baseline')\n",
    "ax.plot([1, 2, 3, 4, 5], pred_avg_latent, color='blue', label = 'latent')\n",
    "ax.set_xlabel('Actual ratings')\n",
    "ax.set_ylabel('Average Predicted ratings')\n",
    "ax.set_title('Actual vs. avg. predicted ratings for baseline model, latent model on Training Set')\n",
    "ax.set_ylim((1,5))\n",
    "ax.legend();"
   ]
  },
  {
   "cell_type": "code",
   "execution_count": 407,
   "metadata": {
    "collapsed": true
   },
   "outputs": [],
   "source": [
    "test_pred_avg = []\n",
    "test_pred_avg_latent = []\n",
    "for i in [1, 2, 3, 4, 5]:\n",
    "    test_pred_avg.append(test_df_v2[test_df_v2['stars'] == i]['pred_base'].mean())\n",
    "    test_pred_avg_latent.append(test_df_v2[test_df_v2['stars'] == i]['pred_latent'].mean())"
   ]
  },
  {
   "cell_type": "code",
   "execution_count": 408,
   "metadata": {},
   "outputs": [
    {
     "data": {
      "image/png": "[encoded data removed]",
      "text/plain": [
       "<matplotlib.figure.Figure at 0x2892f2a58>"
      ]
     },
     "metadata": {},
     "output_type": "display_data"
    }
   ],
   "source": [
    "fig, ax = plt.subplots(1, 1, figsize=(15, 8))\n",
    "ax.plot([1, 2, 3, 4, 5], test_pred_avg, color='red', label = 'baseline')\n",
    "ax.plot([1, 2, 3, 4, 5], test_pred_avg_latent, color='blue', label = 'latent')\n",
    "ax.set_xlabel('Actual ratings')\n",
    "ax.set_ylabel('Average Predicted ratings')\n",
    "ax.set_title('Actual vs. avg. predicted ratings for baseline model, latent model on Testing Set')\n",
    "ax.set_ylim((1,5))\n",
    "ax.legend();"
   ]
  },
  {
   "cell_type": "markdown",
   "metadata": {},
   "source": [
    "#### Latent factors overfit\n",
    "\n",
    "As you can see, our latent factors vastly overfit on our training set. We have a near perfect accuracy score on our training set while we have baseline level accuracy on our test set using the latent factors. There are several reasons to explain this:\n",
    "* The size of our training set is very small without only roughly 700 data points. We limited ourselves to this size due to the computational intensity of Alternating Least Squares. Our train set only contained 308 users and 173 restaurants. As a result there were not very many interaction terms that our latent factors had to learn. Thus, the variance in our error was very high, since it was specific to the collection of users and restaurants in our selected data train. \n",
    "* We only had 4 latent factors. Again, we limited ourselves to four factors due to the time constraints. With an incredibly small inner product space, our model could not capture all the nuances in the interaction terms. We wuld have liked if possible to cross validate in order to tune both the number of factors and lambda.\n",
    "* We only had one validating set. Cross validating with 4 or 5 folds would have been near impossible. \n",
    "* Our tuning vectors are very 'rough' in the sense that they are 0.2 points apart from each other. As a result, it was hard to reach a point of convergence in which none of the vectors were changing between iterations. For the future, we would have liked to tune across more granular values.\n",
    "\n"
   ]
  },
  {
   "cell_type": "code",
   "execution_count": null,
   "metadata": {
    "collapsed": true
   },
   "outputs": [],
   "source": []
  }
 ],
 "metadata": {
  "celltoolbar": "Edit Metadata",
  "kernelspec": {
   "display_name": "Python 3",
   "language": "python",
   "name": "python3"
  },
  "language_info": {
   "codemirror_mode": {
    "name": "ipython",
    "version": 3
   },
   "file_extension": ".py",
   "mimetype": "text/x-python",
   "name": "python",
   "nbconvert_exporter": "python",
   "pygments_lexer": "ipython3",
   "version": "3.6.1"
  }
 },
 "nbformat": 4,
 "nbformat_minor": 2
}
