{
 "cells": [
  {
   "cell_type": "code",
   "execution_count": 1,
   "metadata": {
    "hide": true
   },
   "outputs": [],
   "source": [
    "# import libraries\n",
    "import numpy as np\n",
    "import pandas as pd\n",
    "import seaborn as sns\n",
    "import json\n",
    "import matplotlib\n",
    "import matplotlib.pyplot as plt\n",
    "import sklearn.metrics as metrics\n",
    "from sklearn.model_selection import cross_val_score\n",
    "from sklearn.linear_model import LinearRegression\n",
    "from sklearn.linear_model import LogisticRegressionCV\n",
    "from sklearn.linear_model import RidgeCV\n",
    "from sklearn.linear_model import LassoCV\n",
    "from random import *\n",
    "from math import log\n",
    "import copy\n",
    "pd.set_option('display.max_columns', None)\n",
    "from pandas.io.json import json_normalize\n",
    "\n",
    "from scipy.stats.stats import pearsonr   \n",
    "%matplotlib inline"
   ]
  },
  {
   "cell_type": "code",
   "execution_count": 2,
   "metadata": {
    "collapsed": true,
    "hide": true
   },
   "outputs": [],
   "source": [
    "# load business and user data\n",
    "with open('dataset/business.json') as f:\n",
    "    business_data = [json.loads(line) for line in f]\n",
    "with open('dataset/user.json') as f:\n",
    "    user_data = [json.loads(line) for line in f]  "
   ]
  },
  {
   "cell_type": "code",
   "execution_count": 3,
   "metadata": {
    "collapsed": true,
    "hide": true
   },
   "outputs": [],
   "source": [
    "# preprocessed file with reviews only for restaurants\n",
    "with open('dataset/restaurant_reviews.json', encoding = 'utf-8') as f:\n",
    "    review_data = [json.loads(line) for line in f]"
   ]
  },
  {
   "cell_type": "code",
   "execution_count": 4,
   "metadata": {
    "collapsed": true,
    "hide": true
   },
   "outputs": [],
   "source": [
    "# convert array to list (how preprocessed file was formatted)\n",
    "restaurant_reviews = review_data[0]"
   ]
  },
  {
   "cell_type": "code",
   "execution_count": 5,
   "metadata": {
    "collapsed": true,
    "hide": true
   },
   "outputs": [],
   "source": [
    "# pull just restaurant data from business data\n",
    "restaurant_data = [x for x in business_data if 'Restaurants' in x['categories']]"
   ]
  },
  {
   "cell_type": "code",
   "execution_count": 6,
   "metadata": {
    "collapsed": true,
    "hide": true
   },
   "outputs": [],
   "source": [
    "del review_data\n",
    "del business_data"
   ]
  },
  {
   "cell_type": "code",
   "execution_count": 7,
   "metadata": {
    "collapsed": true,
    "hide": true
   },
   "outputs": [],
   "source": [
    "# pandas dataframe of restaurant data\n",
    "restaurant_df = json_normalize(restaurant_data)"
   ]
  },
  {
   "cell_type": "code",
   "execution_count": 8,
   "metadata": {
    "collapsed": true,
    "hide": true
   },
   "outputs": [],
   "source": [
    "# take 100000 reviews as sample\n",
    "data_array = (np.random.choice(restaurant_reviews, size = 100000))\n",
    "data_set = list(data_array)"
   ]
  },
  {
   "cell_type": "code",
   "execution_count": 9,
   "metadata": {
    "collapsed": true,
    "hide": true
   },
   "outputs": [],
   "source": [
    "# find all categories for one-hot encoding purposes\n",
    "from collections import Counter\n",
    "all_categories = []\n",
    "for r in restaurant_data:\n",
    "    if 'Restaurants' in r['categories']:\n",
    "        for c in r['categories']:\n",
    "            all_categories.append(c)"
   ]
  },
  {
   "cell_type": "code",
   "execution_count": 10,
   "metadata": {
    "collapsed": true,
    "hide": true
   },
   "outputs": [],
   "source": [
    "# take 150 most popular categories\n",
    "counts = list (Counter(all_categories).items())\n",
    "counts.sort(key=lambda x: x[1], reverse = True)\n",
    "most_popular = [x[0] for x in counts[:150]]"
   ]
  },
  {
   "cell_type": "code",
   "execution_count": 11,
   "metadata": {
    "collapsed": true,
    "hide": true
   },
   "outputs": [],
   "source": [
    "# create restaurant and user dictionaries for easy lookup\n",
    "restaurant_dict = {}\n",
    "for item in restaurant_data:\n",
    "    restaurant_id = item['business_id']\n",
    "    restaurant_dict[restaurant_id] = item\n",
    "\n",
    "user_dict = {}\n",
    "for item in user_data:\n",
    "    user_id = item['user_id']\n",
    "    user_dict[user_id] = item"
   ]
  },
  {
   "cell_type": "code",
   "execution_count": 12,
   "metadata": {
    "collapsed": true,
    "hide": true
   },
   "outputs": [],
   "source": [
    "# make copy of the reviews array\n",
    "expanded_reviews = copy.deepcopy(data_array)"
   ]
  },
  {
   "cell_type": "code",
   "execution_count": 13,
   "metadata": {
    "collapsed": true,
    "hide": true
   },
   "outputs": [],
   "source": [
    "# add business and user info\n",
    "for review in expanded_reviews:\n",
    "    #print (review)\n",
    "    restaurant = review['business_id']\n",
    "    user = review['user_id']\n",
    "    restaurant_info = restaurant_dict[restaurant]\n",
    "    #print (restaurant_info)\n",
    "    user_info = user_dict[user]\n",
    "    for attribute in restaurant_info:\n",
    "        #print (attribute)\n",
    "        if attribute not in ['is_open', 'latitude','longitude','name','business_id',\n",
    "                             'neighborhood','address','city','postal_code','hours']:\n",
    "            if attribute == 'categories':\n",
    "                for c in most_popular:\n",
    "                    if c in restaurant_info[attribute]:\n",
    "                        review['R_' +  c] = 1\n",
    "                    else:\n",
    "                        review['R_' +  c] = 0\n",
    "            else:         \n",
    "                review['R_' + attribute] = restaurant_info[attribute]\n",
    "    for attribute in user_info:\n",
    "        if attribute not in ['user_id','name']:   \n",
    "            if attribute == 'friends':\n",
    "                review['U_friends'] = len(user_info[attribute])\n",
    "            elif attribute == 'yelping_since':\n",
    "                review['U_yelping_since'] = user_info[attribute][:4]\n",
    "            elif attribute == 'elite':\n",
    "                if user_info[attribute]:\n",
    "                    review['U_elite'] = True\n",
    "                else:\n",
    "                    review['U_elite'] = False        \n",
    "            else:\n",
    "                review['U_' + attribute] = user_info[attribute] "
   ]
  },
  {
   "cell_type": "code",
   "execution_count": 14,
   "metadata": {
    "collapsed": true,
    "hide": true
   },
   "outputs": [],
   "source": [
    "# create pandas dataframe\n",
    "flatframe = json_normalize(expanded_reviews)\n",
    "flatframe = flatframe.drop(['text','useful','funny','cool','date'], axis=1)"
   ]
  },
  {
   "cell_type": "code",
   "execution_count": 15,
   "metadata": {
    "collapsed": true,
    "hide": true
   },
   "outputs": [],
   "source": [
    "# change user since\n",
    "flatframe['U_years_yelping'] = [2015 - int(x) for x in flatframe['U_yelping_since']]\n",
    "flatframe.drop(['U_yelping_since'],axis = 1, inplace = True)"
   ]
  },
  {
   "cell_type": "code",
   "execution_count": 16,
   "metadata": {
    "collapsed": true,
    "hide": true
   },
   "outputs": [],
   "source": [
    "# drop ids\n",
    "flatframe_wids = flatframe.drop(['business_id', 'review_id', 'user_id'], axis = 1)"
   ]
  },
  {
   "cell_type": "code",
   "execution_count": 17,
   "metadata": {
    "collapsed": true,
    "hide": true
   },
   "outputs": [],
   "source": [
    "#one hot encode\n",
    "flatframe_wids = pd.get_dummies(flatframe_wids, columns = ['R_state', \n",
    "                                                    'R_attributes.Alcohol', 'R_attributes.AgesAllowed', 'R_attributes.RestaurantsAttire',\n",
    "                                                    'R_attributes.RestaurantsPriceRange2','R_attributes.Smoking',\n",
    "                                                    'R_attributes.WiFi', 'R_attributes.NoiseLevel','R_attributes.BYOBCorkage'])"
   ]
  },
  {
   "cell_type": "code",
   "execution_count": 18,
   "metadata": {
    "collapsed": true,
    "hide": true
   },
   "outputs": [],
   "source": [
    "# drop column if more than half of a column is nan\n",
    "nan_count = {}\n",
    "for column in flatframe_wids:\n",
    "     nan_count[column] = flatframe_wids[column].isnull().sum()\n",
    "\n",
    "nan_sorted = sorted(nan_count.items(), key=lambda x: x[1], reverse = True) \n",
    "drop_nans = [x[0] for x in nan_sorted if x[1] > 50000]"
   ]
  },
  {
   "cell_type": "code",
   "execution_count": 19,
   "metadata": {
    "collapsed": true,
    "hide": true
   },
   "outputs": [],
   "source": [
    "# drop some nans and fill some nans\n",
    "flatframe_wids = flatframe_wids.drop(drop_nans, axis = 1)\n",
    "flatframe_wids = flatframe_wids.fillna(flatframe_wids.mean())"
   ]
  },
  {
   "cell_type": "code",
   "execution_count": 20,
   "metadata": {
    "collapsed": true,
    "hide": true
   },
   "outputs": [],
   "source": [
    "# train test split\n",
    "msk = np.random.rand(len(flatframe_wids)) < 0.5\n",
    "data_train = flatframe_wids[msk]\n",
    "data_test = flatframe_wids[~msk]"
   ]
  },
  {
   "cell_type": "code",
   "execution_count": 21,
   "metadata": {
    "collapsed": true,
    "hide": true
   },
   "outputs": [],
   "source": [
    "# make pandas dataframe for user data\n",
    "user_df = json_normalize(user_data)"
   ]
  },
  {
   "cell_type": "code",
   "execution_count": 22,
   "metadata": {
    "collapsed": true,
    "hide": true
   },
   "outputs": [],
   "source": [
    "# train test split including business ids and user ids\n",
    "data_train_temp = flatframe[msk]\n",
    "data_test_temp = flatframe[~msk]"
   ]
  },
  {
   "cell_type": "code",
   "execution_count": 23,
   "metadata": {
    "hide": true
   },
   "outputs": [],
   "source": [
    "# global user average\n",
    "users = data_train_temp.user_id.unique()\n",
    "user_total = user_df[user_df['user_id'].isin(users)]['average_stars']\n",
    "global_user_average = sum(user_total)/len(user_total)"
   ]
  },
  {
   "cell_type": "code",
   "execution_count": 24,
   "metadata": {
    "hide": true
   },
   "outputs": [],
   "source": [
    "# global restaurant average\n",
    "restaurants = data_train_temp.business_id.unique()\n",
    "restaurant_total = restaurant_df[restaurant_df['business_id'].isin(restaurants)]['stars']\n",
    "global_restaurant_average = sum(restaurant_total)/len(restaurant_total)"
   ]
  },
  {
   "cell_type": "code",
   "execution_count": 25,
   "metadata": {
    "hide": true
   },
   "outputs": [],
   "source": [
    "# global review average\n",
    "global_review_average = data_train['stars'].mean()"
   ]
  },
  {
   "cell_type": "code",
   "execution_count": 26,
   "metadata": {
    "collapsed": true,
    "hide": true
   },
   "outputs": [],
   "source": [
    "# user biases\n",
    "user_deviations = {}\n",
    "for item in user_data:\n",
    "    user_id = item['user_id']\n",
    "    user_deviations[user_id] = item['average_stars'] - global_user_average"
   ]
  },
  {
   "cell_type": "code",
   "execution_count": 27,
   "metadata": {
    "collapsed": true,
    "hide": true
   },
   "outputs": [],
   "source": [
    "# restaurant biases\n",
    "restaurant_deviations = {}\n",
    "for item in restaurant_data:\n",
    "    rest_id = item['business_id']\n",
    "    restaurant_deviations[rest_id] = item['stars'] - global_restaurant_average"
   ]
  },
  {
   "cell_type": "code",
   "execution_count": 28,
   "metadata": {
    "collapsed": true,
    "hide": true
   },
   "outputs": [],
   "source": [
    "# creating xy variables\n",
    "Xtrain = data_train.drop(['stars'], axis = 1)\n",
    "ytrain = data_train['stars']\n",
    "Xtest = data_test.drop(['stars'], axis = 1)\n",
    "ytest = data_test['stars']"
   ]
  },
  {
   "cell_type": "code",
   "execution_count": 29,
   "metadata": {
    "collapsed": true,
    "hide": true
   },
   "outputs": [],
   "source": [
    "def baseline(user_id, business_id):\n",
    "    pred = global_review_average + user_deviations[user_id] + restaurant_deviations[business_id]\n",
    "    return int(round(pred))"
   ]
  },
  {
   "cell_type": "code",
   "execution_count": 30,
   "metadata": {
    "collapsed": true,
    "hide": true
   },
   "outputs": [],
   "source": [
    "# predictions\n",
    "base_pred = [baseline(x,y) for x,y in zip(data_train_temp['user_id'],data_train_temp['business_id'])]\n",
    "base_pred_test = [baseline(x,y) for x,y in zip(data_test_temp['user_id'],data_test_temp['business_id'])]"
   ]
  },
  {
   "cell_type": "code",
   "execution_count": 31,
   "metadata": {
    "collapsed": true,
    "hide": true
   },
   "outputs": [],
   "source": [
    "# calculate averages\n",
    "pred_df_train = pd.DataFrame({'y' : ytrain, 'ypred' : base_pred})\n",
    "pred_df_test = pd.DataFrame({'y' : ytest, 'ypred' : base_pred_test})\n",
    "\n",
    "base_pred_avg = []\n",
    "base_pred_test_avg = []\n",
    "for i in [1, 2, 3, 4, 5]:\n",
    "    base_pred_avg.append(pred_df_train[pred_df_train['y'] == i]['ypred'].mean())\n",
    "    base_pred_test_avg.append(pred_df_test[pred_df_test['y'] == i]['ypred'].mean())"
   ]
  },
  {
   "cell_type": "code",
   "execution_count": 32,
   "metadata": {
    "hide": true
   },
   "outputs": [
    {
     "data": {
      "text/plain": [
       "LinearRegression(copy_X=True, fit_intercept=True, n_jobs=1, normalize=False)"
      ]
     },
     "execution_count": 32,
     "metadata": {},
     "output_type": "execute_result"
    }
   ],
   "source": [
    "model = LinearRegression()\n",
    "model.fit(Xtrain, ytrain)"
   ]
  },
  {
   "cell_type": "code",
   "execution_count": 33,
   "metadata": {
    "hide": true
   },
   "outputs": [],
   "source": [
    "ypred = model.predict(Xtrain)\n",
    "ypred_test = model.predict(Xtest)\n",
    "predround = [int(round(x)) for x in ypred]"
   ]
  },
  {
   "cell_type": "code",
   "execution_count": 34,
   "metadata": {
    "collapsed": true,
    "hide": true
   },
   "outputs": [],
   "source": [
    "model_lasso = LassoCV().fit(Xtrain, ytrain)"
   ]
  },
  {
   "cell_type": "code",
   "execution_count": 35,
   "metadata": {
    "collapsed": true,
    "hide": true
   },
   "outputs": [],
   "source": [
    "lasso_ypred = model_lasso.predict(Xtrain)\n",
    "lasso_ypred_round = [int(round(x)) for x in lasso_ypred]\n",
    "lasso_ypred_test = model_lasso.predict(Xtest)\n",
    "lasso_ypred_test_round = [int(round(x)) for x in lasso_ypred_test]"
   ]
  },
  {
   "cell_type": "code",
   "execution_count": 36,
   "metadata": {
    "collapsed": true,
    "hide": true
   },
   "outputs": [],
   "source": [
    "model_ridge = RidgeCV().fit(Xtrain, ytrain)"
   ]
  },
  {
   "cell_type": "code",
   "execution_count": 37,
   "metadata": {
    "collapsed": true,
    "hide": true
   },
   "outputs": [],
   "source": [
    "ridge_ypred = model_ridge.predict(Xtrain)\n",
    "ridge_ypred_round = [int(round(x)) for x in ridge_ypred]\n",
    "ridge_ypred_test = model_ridge.predict(Xtest)\n",
    "ridge_ypred_test_round = [int(round(x)) for x in ridge_ypred_test]"
   ]
  },
  {
   "cell_type": "code",
   "execution_count": 38,
   "metadata": {
    "hide": true
   },
   "outputs": [
    {
     "data": {
      "text/plain": [
       "KNeighborsRegressor(algorithm='auto', leaf_size=30, metric='minkowski',\n",
       "          metric_params=None, n_jobs=-1, n_neighbors=5, p=2,\n",
       "          weights='uniform')"
      ]
     },
     "execution_count": 38,
     "metadata": {},
     "output_type": "execute_result"
    }
   ],
   "source": [
    "from sklearn.neighbors import KNeighborsRegressor\n",
    "knn = KNeighborsRegressor(n_neighbors=5, n_jobs=-1)\n",
    "knn.fit(Xtrain, ytrain)"
   ]
  },
  {
   "cell_type": "code",
   "execution_count": 39,
   "metadata": {
    "collapsed": true,
    "hide": true
   },
   "outputs": [],
   "source": [
    "ypred_train = np.round(knn.predict(Xtrain)).astype(int)\n",
    "ypred_test = np.round(knn.predict(Xtest)).astype(int)"
   ]
  },
  {
   "cell_type": "code",
   "execution_count": 40,
   "metadata": {
    "hide": true
   },
   "outputs": [
    {
     "name": "stdout",
     "output_type": "stream",
     "text": [
      "The accuracy score of the knn model on the train set is 0.9999601021385254\n",
      "The accuracy score of the knn model on the test set is 0.3251724414501123\n"
     ]
    }
   ],
   "source": [
    "knn = KNeighborsRegressor(n_neighbors=1, n_jobs=-1)\n",
    "knn.fit(Xtrain, ytrain)\n",
    "ypred_train = np.round(knn.predict(Xtrain)).astype(int)\n",
    "ypred_test = np.round(knn.predict(Xtest)).astype(int)\n",
    "print (\"The accuracy score of the knn model on the train set is {}\"\n",
    "       .format(metrics.accuracy_score(ytrain, ypred_train)))\n",
    "print (\"The accuracy score of the knn model on the test set is {}\"\n",
    "       .format(metrics.accuracy_score(ytest, ypred_test)))"
   ]
  },
  {
   "cell_type": "markdown",
   "metadata": {
    "collapsed": true
   },
   "source": [
    "## Part 5: Ensemble Method"
   ]
  },
  {
   "cell_type": "markdown",
   "metadata": {
    "collapsed": true
   },
   "source": [
    "For this section, we did not include our matrix factorization model. This is because for matrix factorization, we deleted many datapoints to reduce the sparsity of the input matrix, resulting in a dataset of around 5000 entries for the training set. In contrast, the original training set that we used had 50,000 entries. Because we wished to generalize our model for as many restaurant-user combinations as possible, we found it most appropriate to keep the matrix factorization model out of the ensemble method."
   ]
  },
  {
   "cell_type": "markdown",
   "metadata": {},
   "source": [
    "### Majority Vote Model"
   ]
  },
  {
   "cell_type": "code",
   "execution_count": 41,
   "metadata": {
    "collapsed": true
   },
   "outputs": [],
   "source": [
    "from collections import Counter\n",
    "predictions_train = []\n",
    "predictions_test = []\n",
    "counter_predictions_train = []\n",
    "counter_predictions_test = []\n",
    "\n",
    "# all the predictions in one place\n",
    "base_pred = [baseline(x,y) for x,y in zip(data_train_temp['user_id'],data_train_temp['business_id'])]\n",
    "base_pred_test = [baseline(x,y) for x,y in zip(data_test_temp['user_id'],data_test_temp['business_id'])]\n",
    "ridge_ypred_round = [int(round(x)) for x in ridge_ypred]\n",
    "ridge_ypred_test_round = [int(round(x)) for x in ridge_ypred_test]\n",
    "#matrix factorization train\n",
    "#matrix factorization test\n",
    "knn_pred_train = np.round(knn.predict(Xtrain)).astype(int)\n",
    "knn_pred_test = np.round(knn.predict(Xtest)).astype(int)\n",
    "\n",
    "for i in range(len(ytrain)):\n",
    "    temp = []\n",
    "    temp.append(base_pred[i])\n",
    "    temp.append(ridge_ypred_round[i])\n",
    "    #temp.append(matrix factorization train)\n",
    "    temp.append(knn_pred_train[i])\n",
    "    counter_predictions_train.append(Counter(temp))\n",
    "    predictions_train.append(temp)\n",
    "    \n",
    "for i in range(len(ytest)):\n",
    "    temp = []\n",
    "    temp.append(base_pred_test[i])\n",
    "    temp.append(ridge_ypred_test_round[i])\n",
    "    #temp.append(matrix factorization test)\n",
    "    temp.append(knn_pred_test[i])\n",
    "    counter_predictions_test.append(Counter(temp))\n",
    "    predictions_test.append(temp)"
   ]
  },
  {
   "cell_type": "code",
   "execution_count": 42,
   "metadata": {
    "collapsed": true
   },
   "outputs": [],
   "source": [
    "# majority votes\n",
    "ensemble_pred_train = []\n",
    "ensemble_pred_test = []\n",
    "\n",
    "for i in range(len(counter_predictions_train)):\n",
    "    value, count = counter_predictions_train[i].most_common()[0]\n",
    "    ensemble_pred_train.append(value)\n",
    "    \n",
    "for i in range(len(counter_predictions_test)):\n",
    "    value, count = counter_predictions_test[i].most_common()[0]\n",
    "    ensemble_pred_test.append(value)"
   ]
  },
  {
   "cell_type": "code",
   "execution_count": 43,
   "metadata": {},
   "outputs": [
    {
     "name": "stdout",
     "output_type": "stream",
     "text": [
      "The accuracy score of the ensemble model (majority vote) on the train set is 0.47372725821895945\n",
      "The accuracy score of the ensemble model (majority vote) on the test set is 0.40393407122232916\n"
     ]
    }
   ],
   "source": [
    "print (\"The accuracy score of the ensemble model (majority vote) on the train set is {}\"\n",
    "       .format(metrics.accuracy_score(ytrain, ensemble_pred_train)))\n",
    "print (\"The accuracy score of the ensemble model (majority vote) on the test set is {}\"\n",
    "       .format(metrics.accuracy_score(ytest, ensemble_pred_test)))"
   ]
  },
  {
   "cell_type": "markdown",
   "metadata": {},
   "source": [
    "This ensemble method predicts by taking a majority vote of every model's prediction for a given predictor set. This improves upon all the models--both training and test accuracies are higher than any individual component model of the ensemble model (excluding training accuracy for kNN, which was 1 because k = 1).}"
   ]
  },
  {
   "cell_type": "code",
   "execution_count": 44,
   "metadata": {
    "collapsed": true
   },
   "outputs": [],
   "source": [
    "# calculate averages\n",
    "pred_df_train = pd.DataFrame({'y' : ytrain, 'ypred' : ensemble_pred_train})\n",
    "pred_df_test = pd.DataFrame({'y' : ytest, 'ypred' : ensemble_pred_test})\n",
    "\n",
    "majority_pred_avg = []\n",
    "majority_pred_test_avg = []\n",
    "for i in [1, 2, 3, 4, 5]:\n",
    "    majority_pred_avg.append(pred_df_train[pred_df_train['y'] == i]['ypred'].mean())\n",
    "    majority_pred_test_avg.append(pred_df_test[pred_df_test['y'] == i]['ypred'].mean())"
   ]
  },
  {
   "cell_type": "code",
   "execution_count": 45,
   "metadata": {},
   "outputs": [
    {
     "data": {
      "text/plain": [
       "(1, 5)"
      ]
     },
     "execution_count": 45,
     "metadata": {},
     "output_type": "execute_result"
    },
    {
     "data": {
      "image/png": "[encoded data removed]",
      "text/plain": [
       "<matplotlib.figure.Figure at 0x1373ce4f470>"
      ]
     },
     "metadata": {},
     "output_type": "display_data"
    }
   ],
   "source": [
    "fig, ax = plt.subplots(1, 1, figsize=(15, 8))\n",
    "ax.plot([1, 2, 3, 4, 5], majority_pred_avg, color='red')\n",
    "\n",
    "ax.set_xlabel('Actual ratings')\n",
    "ax.set_ylabel('Average Predicted ratings')\n",
    "ax.set_title('Actual vs. avg. predicted ratings for majority-based ensemble model, training set')\n",
    "ax.set_ylim((1,5))"
   ]
  },
  {
   "cell_type": "code",
   "execution_count": 46,
   "metadata": {},
   "outputs": [
    {
     "data": {
      "text/plain": [
       "(1, 5)"
      ]
     },
     "execution_count": 46,
     "metadata": {},
     "output_type": "execute_result"
    },
    {
     "data": {
      "image/png": "[encoded data removed]",
      "text/plain": [
       "<matplotlib.figure.Figure at 0x137324ddcf8>"
      ]
     },
     "metadata": {},
     "output_type": "display_data"
    }
   ],
   "source": [
    "fig, ax = plt.subplots(1, 1, figsize=(15, 8))\n",
    "ax.plot([1, 2, 3, 4, 5], majority_pred_test_avg, color='red')\n",
    "\n",
    "ax.set_xlabel('Actual ratings')\n",
    "ax.set_ylabel('Average Predicted ratings')\n",
    "ax.set_title('Actual vs. avg. predicted ratings for majority-based ensemble model, training set')\n",
    "ax.set_ylim((1,5))"
   ]
  },
  {
   "cell_type": "markdown",
   "metadata": {},
   "source": [
    "On average, our predictions for both the training and the test set follow the increasing trend of actual ratings but overestimate for lower ratings."
   ]
  },
  {
   "cell_type": "markdown",
   "metadata": {},
   "source": [
    "### Ensemble Method Using Logistic Regression"
   ]
  },
  {
   "cell_type": "code",
   "execution_count": 47,
   "metadata": {},
   "outputs": [
    {
     "name": "stdout",
     "output_type": "stream",
     "text": [
      "Train LogReg:  0.760453239706\n",
      "Test LogReg:  0.357455085018\n"
     ]
    }
   ],
   "source": [
    "# logistic regression metaclassifier\n",
    "logreg = LogisticRegressionCV()\n",
    "y_hat_test = logreg.fit(predictions_train, ytrain).predict(predictions_test)\n",
    "y_hat_train = logreg.fit(predictions_train, ytrain).predict(predictions_train)\n",
    "\n",
    "print(\"Train LogReg: \", metrics.accuracy_score(ytrain, y_hat_train))\n",
    "print(\"Test LogReg: \", metrics.accuracy_score(ytest, y_hat_test))"
   ]
  },
  {
   "cell_type": "markdown",
   "metadata": {},
   "source": [
    "This model performed significantly better on the training set; however, it actually performed *worse* on the test set. This may be because of the kNN model being weighted more because of its high training accuracy due to its parameter k being 1."
   ]
  },
  {
   "cell_type": "code",
   "execution_count": 48,
   "metadata": {
    "collapsed": true
   },
   "outputs": [],
   "source": [
    "# calculate averages\n",
    "pred_df_train = pd.DataFrame({'y' : ytrain, 'ypred' : y_hat_train})\n",
    "pred_df_test = pd.DataFrame({'y' : ytest, 'ypred' : y_hat_test})\n",
    "\n",
    "log_pred_avg = []\n",
    "log_pred_test_avg = []\n",
    "for i in [1, 2, 3, 4, 5]:\n",
    "    log_pred_avg.append(pred_df_train[pred_df_train['y'] == i]['ypred'].mean())\n",
    "    log_pred_test_avg.append(pred_df_test[pred_df_test['y'] == i]['ypred'].mean())"
   ]
  },
  {
   "cell_type": "code",
   "execution_count": 49,
   "metadata": {},
   "outputs": [
    {
     "data": {
      "text/plain": [
       "(1, 5)"
      ]
     },
     "execution_count": 49,
     "metadata": {},
     "output_type": "execute_result"
    },
    {
     "data": {
      "image/png": "[encoded data removed]",
      "text/plain": [
       "<matplotlib.figure.Figure at 0x1373cf9e518>"
      ]
     },
     "metadata": {},
     "output_type": "display_data"
    }
   ],
   "source": [
    "fig, ax = plt.subplots(1, 1, figsize=(15, 8))\n",
    "ax.plot([1, 2, 3, 4, 5], log_pred_avg, color='red')\n",
    "\n",
    "ax.set_xlabel('Actual ratings')\n",
    "ax.set_ylabel('Average Predicted ratings')\n",
    "ax.set_title('Actual vs. avg. predicted ratings for logistic-based ensemble model, training set')\n",
    "ax.set_ylim((1,5))"
   ]
  },
  {
   "cell_type": "code",
   "execution_count": 50,
   "metadata": {},
   "outputs": [
    {
     "data": {
      "text/plain": [
       "(1, 5)"
      ]
     },
     "execution_count": 50,
     "metadata": {},
     "output_type": "execute_result"
    },
    {
     "data": {
      "image/png": "[encoded data removed]",
      "text/plain": [
       "<matplotlib.figure.Figure at 0x1373f8e9358>"
      ]
     },
     "metadata": {},
     "output_type": "display_data"
    }
   ],
   "source": [
    "fig, ax = plt.subplots(1, 1, figsize=(15, 8))\n",
    "ax.plot([1, 2, 3, 4, 5], log_pred_test_avg, color='red')\n",
    "\n",
    "ax.set_xlabel('Actual ratings')\n",
    "ax.set_ylabel('Average Predicted ratings')\n",
    "ax.set_title('Actual vs. avg. predicted ratings for logistic-based ensemble model, training set')\n",
    "ax.set_ylim((1,5))"
   ]
  },
  {
   "cell_type": "markdown",
   "metadata": {},
   "source": [
    "For the training set, the model performed well for when actual ratings were 1, 4, and 5 (not 2 and 3). The line was very flat for the test set, reflecting the large influence that the knn model had using this ensemble method."
   ]
  }
 ],
 "metadata": {
  "celltoolbar": "Edit Metadata",
  "kernelspec": {
   "display_name": "Python 3",
   "language": "python",
   "name": "python3"
  },
  "language_info": {
   "codemirror_mode": {
    "name": "ipython",
    "version": 3
   },
   "file_extension": ".py",
   "mimetype": "text/x-python",
   "name": "python",
   "nbconvert_exporter": "python",
   "pygments_lexer": "ipython3",
   "version": "3.6.1"
  }
 },
 "nbformat": 4,
 "nbformat_minor": 2
}
